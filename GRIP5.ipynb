{
 "cells": [
  {
   "cell_type": "markdown",
   "id": "d6628cd0",
   "metadata": {},
   "source": [
    "**SPARK FOUNDATION PROJECT DEC 22**"
   ]
  },
  {
   "cell_type": "markdown",
   "id": "53b904bd",
   "metadata": {},
   "source": [
    "**TASK 5 Problem Statement**"
   ]
  },
  {
   "cell_type": "markdown",
   "id": "68bd29b4",
   "metadata": {},
   "source": [
    "***An Exploratory Data Analysis(EDA) on Indian Premier League(IPL).\n",
    "Basically to find out the most successful teams, players and factors contributing to the win or loss of a team.***"
   ]
  },
  {
   "cell_type": "code",
   "execution_count": 1,
   "id": "a79348e1",
   "metadata": {},
   "outputs": [],
   "source": [
    "#importing libraries\n",
    "import numpy as np\n",
    "import pandas as pd\n",
    "import matplotlib.pyplot as plt\n",
    "%matplotlib inline\n",
    "import seaborn as sns\n",
    "import plotly.express as px\n",
    "import warnings\n",
    "warnings.filterwarnings(\"ignore\")"
   ]
  },
  {
   "cell_type": "code",
   "execution_count": 2,
   "id": "453eb344",
   "metadata": {},
   "outputs": [],
   "source": [
    "#loading the datasets\n",
    "deliveries = pd.read_csv(r'C:\\Users\\HP\\Desktop\\Data Science\\India League\\deliveries.csv')\n",
    "matches = pd.read_csv(r'C:\\Users\\HP\\Desktop\\Data Science\\India League\\matches.csv')"
   ]
  },
  {
   "cell_type": "code",
   "execution_count": 3,
   "id": "fb7760dc",
   "metadata": {},
   "outputs": [
    {
     "data": {
      "text/html": [
       "<div>\n",
       "<style scoped>\n",
       "    .dataframe tbody tr th:only-of-type {\n",
       "        vertical-align: middle;\n",
       "    }\n",
       "\n",
       "    .dataframe tbody tr th {\n",
       "        vertical-align: top;\n",
       "    }\n",
       "\n",
       "    .dataframe thead th {\n",
       "        text-align: right;\n",
       "    }\n",
       "</style>\n",
       "<table border=\"1\" class=\"dataframe\">\n",
       "  <thead>\n",
       "    <tr style=\"text-align: right;\">\n",
       "      <th></th>\n",
       "      <th>match_id</th>\n",
       "      <th>inning</th>\n",
       "      <th>batting_team</th>\n",
       "      <th>bowling_team</th>\n",
       "      <th>over</th>\n",
       "      <th>ball</th>\n",
       "      <th>batsman</th>\n",
       "      <th>non_striker</th>\n",
       "      <th>bowler</th>\n",
       "      <th>is_super_over</th>\n",
       "      <th>...</th>\n",
       "      <th>bye_runs</th>\n",
       "      <th>legbye_runs</th>\n",
       "      <th>noball_runs</th>\n",
       "      <th>penalty_runs</th>\n",
       "      <th>batsman_runs</th>\n",
       "      <th>extra_runs</th>\n",
       "      <th>total_runs</th>\n",
       "      <th>player_dismissed</th>\n",
       "      <th>dismissal_kind</th>\n",
       "      <th>fielder</th>\n",
       "    </tr>\n",
       "  </thead>\n",
       "  <tbody>\n",
       "    <tr>\n",
       "      <th>0</th>\n",
       "      <td>1</td>\n",
       "      <td>1</td>\n",
       "      <td>Sunrisers Hyderabad</td>\n",
       "      <td>Royal Challengers Bangalore</td>\n",
       "      <td>1</td>\n",
       "      <td>1</td>\n",
       "      <td>DA Warner</td>\n",
       "      <td>S Dhawan</td>\n",
       "      <td>TS Mills</td>\n",
       "      <td>0</td>\n",
       "      <td>...</td>\n",
       "      <td>0</td>\n",
       "      <td>0</td>\n",
       "      <td>0</td>\n",
       "      <td>0</td>\n",
       "      <td>0</td>\n",
       "      <td>0</td>\n",
       "      <td>0</td>\n",
       "      <td>NaN</td>\n",
       "      <td>NaN</td>\n",
       "      <td>NaN</td>\n",
       "    </tr>\n",
       "    <tr>\n",
       "      <th>1</th>\n",
       "      <td>1</td>\n",
       "      <td>1</td>\n",
       "      <td>Sunrisers Hyderabad</td>\n",
       "      <td>Royal Challengers Bangalore</td>\n",
       "      <td>1</td>\n",
       "      <td>2</td>\n",
       "      <td>DA Warner</td>\n",
       "      <td>S Dhawan</td>\n",
       "      <td>TS Mills</td>\n",
       "      <td>0</td>\n",
       "      <td>...</td>\n",
       "      <td>0</td>\n",
       "      <td>0</td>\n",
       "      <td>0</td>\n",
       "      <td>0</td>\n",
       "      <td>0</td>\n",
       "      <td>0</td>\n",
       "      <td>0</td>\n",
       "      <td>NaN</td>\n",
       "      <td>NaN</td>\n",
       "      <td>NaN</td>\n",
       "    </tr>\n",
       "    <tr>\n",
       "      <th>2</th>\n",
       "      <td>1</td>\n",
       "      <td>1</td>\n",
       "      <td>Sunrisers Hyderabad</td>\n",
       "      <td>Royal Challengers Bangalore</td>\n",
       "      <td>1</td>\n",
       "      <td>3</td>\n",
       "      <td>DA Warner</td>\n",
       "      <td>S Dhawan</td>\n",
       "      <td>TS Mills</td>\n",
       "      <td>0</td>\n",
       "      <td>...</td>\n",
       "      <td>0</td>\n",
       "      <td>0</td>\n",
       "      <td>0</td>\n",
       "      <td>0</td>\n",
       "      <td>4</td>\n",
       "      <td>0</td>\n",
       "      <td>4</td>\n",
       "      <td>NaN</td>\n",
       "      <td>NaN</td>\n",
       "      <td>NaN</td>\n",
       "    </tr>\n",
       "    <tr>\n",
       "      <th>3</th>\n",
       "      <td>1</td>\n",
       "      <td>1</td>\n",
       "      <td>Sunrisers Hyderabad</td>\n",
       "      <td>Royal Challengers Bangalore</td>\n",
       "      <td>1</td>\n",
       "      <td>4</td>\n",
       "      <td>DA Warner</td>\n",
       "      <td>S Dhawan</td>\n",
       "      <td>TS Mills</td>\n",
       "      <td>0</td>\n",
       "      <td>...</td>\n",
       "      <td>0</td>\n",
       "      <td>0</td>\n",
       "      <td>0</td>\n",
       "      <td>0</td>\n",
       "      <td>0</td>\n",
       "      <td>0</td>\n",
       "      <td>0</td>\n",
       "      <td>NaN</td>\n",
       "      <td>NaN</td>\n",
       "      <td>NaN</td>\n",
       "    </tr>\n",
       "    <tr>\n",
       "      <th>4</th>\n",
       "      <td>1</td>\n",
       "      <td>1</td>\n",
       "      <td>Sunrisers Hyderabad</td>\n",
       "      <td>Royal Challengers Bangalore</td>\n",
       "      <td>1</td>\n",
       "      <td>5</td>\n",
       "      <td>DA Warner</td>\n",
       "      <td>S Dhawan</td>\n",
       "      <td>TS Mills</td>\n",
       "      <td>0</td>\n",
       "      <td>...</td>\n",
       "      <td>0</td>\n",
       "      <td>0</td>\n",
       "      <td>0</td>\n",
       "      <td>0</td>\n",
       "      <td>0</td>\n",
       "      <td>2</td>\n",
       "      <td>2</td>\n",
       "      <td>NaN</td>\n",
       "      <td>NaN</td>\n",
       "      <td>NaN</td>\n",
       "    </tr>\n",
       "  </tbody>\n",
       "</table>\n",
       "<p>5 rows × 21 columns</p>\n",
       "</div>"
      ],
      "text/plain": [
       "   match_id  inning         batting_team                 bowling_team  over  \\\n",
       "0         1       1  Sunrisers Hyderabad  Royal Challengers Bangalore     1   \n",
       "1         1       1  Sunrisers Hyderabad  Royal Challengers Bangalore     1   \n",
       "2         1       1  Sunrisers Hyderabad  Royal Challengers Bangalore     1   \n",
       "3         1       1  Sunrisers Hyderabad  Royal Challengers Bangalore     1   \n",
       "4         1       1  Sunrisers Hyderabad  Royal Challengers Bangalore     1   \n",
       "\n",
       "   ball    batsman non_striker    bowler  is_super_over  ...  bye_runs  \\\n",
       "0     1  DA Warner    S Dhawan  TS Mills              0  ...         0   \n",
       "1     2  DA Warner    S Dhawan  TS Mills              0  ...         0   \n",
       "2     3  DA Warner    S Dhawan  TS Mills              0  ...         0   \n",
       "3     4  DA Warner    S Dhawan  TS Mills              0  ...         0   \n",
       "4     5  DA Warner    S Dhawan  TS Mills              0  ...         0   \n",
       "\n",
       "   legbye_runs  noball_runs  penalty_runs  batsman_runs  extra_runs  \\\n",
       "0            0            0             0             0           0   \n",
       "1            0            0             0             0           0   \n",
       "2            0            0             0             4           0   \n",
       "3            0            0             0             0           0   \n",
       "4            0            0             0             0           2   \n",
       "\n",
       "   total_runs  player_dismissed dismissal_kind fielder  \n",
       "0           0               NaN            NaN     NaN  \n",
       "1           0               NaN            NaN     NaN  \n",
       "2           4               NaN            NaN     NaN  \n",
       "3           0               NaN            NaN     NaN  \n",
       "4           2               NaN            NaN     NaN  \n",
       "\n",
       "[5 rows x 21 columns]"
      ]
     },
     "execution_count": 3,
     "metadata": {},
     "output_type": "execute_result"
    }
   ],
   "source": [
    "#checking the dataframe or set\n",
    "deliveries.head()"
   ]
  },
  {
   "cell_type": "code",
   "execution_count": 4,
   "id": "e383b827",
   "metadata": {},
   "outputs": [
    {
     "data": {
      "text/html": [
       "<div>\n",
       "<style scoped>\n",
       "    .dataframe tbody tr th:only-of-type {\n",
       "        vertical-align: middle;\n",
       "    }\n",
       "\n",
       "    .dataframe tbody tr th {\n",
       "        vertical-align: top;\n",
       "    }\n",
       "\n",
       "    .dataframe thead th {\n",
       "        text-align: right;\n",
       "    }\n",
       "</style>\n",
       "<table border=\"1\" class=\"dataframe\">\n",
       "  <thead>\n",
       "    <tr style=\"text-align: right;\">\n",
       "      <th></th>\n",
       "      <th>id</th>\n",
       "      <th>season</th>\n",
       "      <th>city</th>\n",
       "      <th>date</th>\n",
       "      <th>team1</th>\n",
       "      <th>team2</th>\n",
       "      <th>toss_winner</th>\n",
       "      <th>toss_decision</th>\n",
       "      <th>result</th>\n",
       "      <th>dl_applied</th>\n",
       "      <th>winner</th>\n",
       "      <th>win_by_runs</th>\n",
       "      <th>win_by_wickets</th>\n",
       "      <th>player_of_match</th>\n",
       "      <th>venue</th>\n",
       "      <th>umpire1</th>\n",
       "      <th>umpire2</th>\n",
       "      <th>umpire3</th>\n",
       "    </tr>\n",
       "  </thead>\n",
       "  <tbody>\n",
       "    <tr>\n",
       "      <th>0</th>\n",
       "      <td>1</td>\n",
       "      <td>2017</td>\n",
       "      <td>Hyderabad</td>\n",
       "      <td>2017-04-05</td>\n",
       "      <td>Sunrisers Hyderabad</td>\n",
       "      <td>Royal Challengers Bangalore</td>\n",
       "      <td>Royal Challengers Bangalore</td>\n",
       "      <td>field</td>\n",
       "      <td>normal</td>\n",
       "      <td>0</td>\n",
       "      <td>Sunrisers Hyderabad</td>\n",
       "      <td>35</td>\n",
       "      <td>0</td>\n",
       "      <td>Yuvraj Singh</td>\n",
       "      <td>Rajiv Gandhi International Stadium, Uppal</td>\n",
       "      <td>AY Dandekar</td>\n",
       "      <td>NJ Llong</td>\n",
       "      <td>NaN</td>\n",
       "    </tr>\n",
       "    <tr>\n",
       "      <th>1</th>\n",
       "      <td>2</td>\n",
       "      <td>2017</td>\n",
       "      <td>Pune</td>\n",
       "      <td>2017-04-06</td>\n",
       "      <td>Mumbai Indians</td>\n",
       "      <td>Rising Pune Supergiant</td>\n",
       "      <td>Rising Pune Supergiant</td>\n",
       "      <td>field</td>\n",
       "      <td>normal</td>\n",
       "      <td>0</td>\n",
       "      <td>Rising Pune Supergiant</td>\n",
       "      <td>0</td>\n",
       "      <td>7</td>\n",
       "      <td>SPD Smith</td>\n",
       "      <td>Maharashtra Cricket Association Stadium</td>\n",
       "      <td>A Nand Kishore</td>\n",
       "      <td>S Ravi</td>\n",
       "      <td>NaN</td>\n",
       "    </tr>\n",
       "    <tr>\n",
       "      <th>2</th>\n",
       "      <td>3</td>\n",
       "      <td>2017</td>\n",
       "      <td>Rajkot</td>\n",
       "      <td>2017-04-07</td>\n",
       "      <td>Gujarat Lions</td>\n",
       "      <td>Kolkata Knight Riders</td>\n",
       "      <td>Kolkata Knight Riders</td>\n",
       "      <td>field</td>\n",
       "      <td>normal</td>\n",
       "      <td>0</td>\n",
       "      <td>Kolkata Knight Riders</td>\n",
       "      <td>0</td>\n",
       "      <td>10</td>\n",
       "      <td>CA Lynn</td>\n",
       "      <td>Saurashtra Cricket Association Stadium</td>\n",
       "      <td>Nitin Menon</td>\n",
       "      <td>CK Nandan</td>\n",
       "      <td>NaN</td>\n",
       "    </tr>\n",
       "    <tr>\n",
       "      <th>3</th>\n",
       "      <td>4</td>\n",
       "      <td>2017</td>\n",
       "      <td>Indore</td>\n",
       "      <td>2017-04-08</td>\n",
       "      <td>Rising Pune Supergiant</td>\n",
       "      <td>Kings XI Punjab</td>\n",
       "      <td>Kings XI Punjab</td>\n",
       "      <td>field</td>\n",
       "      <td>normal</td>\n",
       "      <td>0</td>\n",
       "      <td>Kings XI Punjab</td>\n",
       "      <td>0</td>\n",
       "      <td>6</td>\n",
       "      <td>GJ Maxwell</td>\n",
       "      <td>Holkar Cricket Stadium</td>\n",
       "      <td>AK Chaudhary</td>\n",
       "      <td>C Shamshuddin</td>\n",
       "      <td>NaN</td>\n",
       "    </tr>\n",
       "    <tr>\n",
       "      <th>4</th>\n",
       "      <td>5</td>\n",
       "      <td>2017</td>\n",
       "      <td>Bangalore</td>\n",
       "      <td>2017-04-08</td>\n",
       "      <td>Royal Challengers Bangalore</td>\n",
       "      <td>Delhi Daredevils</td>\n",
       "      <td>Royal Challengers Bangalore</td>\n",
       "      <td>bat</td>\n",
       "      <td>normal</td>\n",
       "      <td>0</td>\n",
       "      <td>Royal Challengers Bangalore</td>\n",
       "      <td>15</td>\n",
       "      <td>0</td>\n",
       "      <td>KM Jadhav</td>\n",
       "      <td>M Chinnaswamy Stadium</td>\n",
       "      <td>NaN</td>\n",
       "      <td>NaN</td>\n",
       "      <td>NaN</td>\n",
       "    </tr>\n",
       "  </tbody>\n",
       "</table>\n",
       "</div>"
      ],
      "text/plain": [
       "   id  season       city        date                        team1  \\\n",
       "0   1    2017  Hyderabad  2017-04-05          Sunrisers Hyderabad   \n",
       "1   2    2017       Pune  2017-04-06               Mumbai Indians   \n",
       "2   3    2017     Rajkot  2017-04-07                Gujarat Lions   \n",
       "3   4    2017     Indore  2017-04-08       Rising Pune Supergiant   \n",
       "4   5    2017  Bangalore  2017-04-08  Royal Challengers Bangalore   \n",
       "\n",
       "                         team2                  toss_winner toss_decision  \\\n",
       "0  Royal Challengers Bangalore  Royal Challengers Bangalore         field   \n",
       "1       Rising Pune Supergiant       Rising Pune Supergiant         field   \n",
       "2        Kolkata Knight Riders        Kolkata Knight Riders         field   \n",
       "3              Kings XI Punjab              Kings XI Punjab         field   \n",
       "4             Delhi Daredevils  Royal Challengers Bangalore           bat   \n",
       "\n",
       "   result  dl_applied                       winner  win_by_runs  \\\n",
       "0  normal           0          Sunrisers Hyderabad           35   \n",
       "1  normal           0       Rising Pune Supergiant            0   \n",
       "2  normal           0        Kolkata Knight Riders            0   \n",
       "3  normal           0              Kings XI Punjab            0   \n",
       "4  normal           0  Royal Challengers Bangalore           15   \n",
       "\n",
       "   win_by_wickets player_of_match                                      venue  \\\n",
       "0               0    Yuvraj Singh  Rajiv Gandhi International Stadium, Uppal   \n",
       "1               7       SPD Smith    Maharashtra Cricket Association Stadium   \n",
       "2              10         CA Lynn     Saurashtra Cricket Association Stadium   \n",
       "3               6      GJ Maxwell                     Holkar Cricket Stadium   \n",
       "4               0       KM Jadhav                      M Chinnaswamy Stadium   \n",
       "\n",
       "          umpire1        umpire2 umpire3  \n",
       "0     AY Dandekar       NJ Llong     NaN  \n",
       "1  A Nand Kishore         S Ravi     NaN  \n",
       "2     Nitin Menon      CK Nandan     NaN  \n",
       "3    AK Chaudhary  C Shamshuddin     NaN  \n",
       "4             NaN            NaN     NaN  "
      ]
     },
     "execution_count": 4,
     "metadata": {},
     "output_type": "execute_result"
    }
   ],
   "source": [
    "#checking the df or set\n",
    "matches.head()"
   ]
  },
  {
   "cell_type": "code",
   "execution_count": 5,
   "id": "ab502df5",
   "metadata": {},
   "outputs": [
    {
     "name": "stdout",
     "output_type": "stream",
     "text": [
      "<class 'pandas.core.frame.DataFrame'>\n",
      "RangeIndex: 179078 entries, 0 to 179077\n",
      "Data columns (total 21 columns):\n",
      " #   Column            Non-Null Count   Dtype \n",
      "---  ------            --------------   ----- \n",
      " 0   match_id          179078 non-null  int64 \n",
      " 1   inning            179078 non-null  int64 \n",
      " 2   batting_team      179078 non-null  object\n",
      " 3   bowling_team      179078 non-null  object\n",
      " 4   over              179078 non-null  int64 \n",
      " 5   ball              179078 non-null  int64 \n",
      " 6   batsman           179078 non-null  object\n",
      " 7   non_striker       179078 non-null  object\n",
      " 8   bowler            179078 non-null  object\n",
      " 9   is_super_over     179078 non-null  int64 \n",
      " 10  wide_runs         179078 non-null  int64 \n",
      " 11  bye_runs          179078 non-null  int64 \n",
      " 12  legbye_runs       179078 non-null  int64 \n",
      " 13  noball_runs       179078 non-null  int64 \n",
      " 14  penalty_runs      179078 non-null  int64 \n",
      " 15  batsman_runs      179078 non-null  int64 \n",
      " 16  extra_runs        179078 non-null  int64 \n",
      " 17  total_runs        179078 non-null  int64 \n",
      " 18  player_dismissed  8834 non-null    object\n",
      " 19  dismissal_kind    8834 non-null    object\n",
      " 20  fielder           6448 non-null    object\n",
      "dtypes: int64(13), object(8)\n",
      "memory usage: 28.7+ MB\n"
     ]
    }
   ],
   "source": [
    "#checking general information\n",
    "deliveries.info()"
   ]
  },
  {
   "cell_type": "code",
   "execution_count": 6,
   "id": "98030a61",
   "metadata": {},
   "outputs": [
    {
     "name": "stdout",
     "output_type": "stream",
     "text": [
      "<class 'pandas.core.frame.DataFrame'>\n",
      "RangeIndex: 756 entries, 0 to 755\n",
      "Data columns (total 18 columns):\n",
      " #   Column           Non-Null Count  Dtype \n",
      "---  ------           --------------  ----- \n",
      " 0   id               756 non-null    int64 \n",
      " 1   season           756 non-null    int64 \n",
      " 2   city             749 non-null    object\n",
      " 3   date             756 non-null    object\n",
      " 4   team1            756 non-null    object\n",
      " 5   team2            756 non-null    object\n",
      " 6   toss_winner      756 non-null    object\n",
      " 7   toss_decision    756 non-null    object\n",
      " 8   result           756 non-null    object\n",
      " 9   dl_applied       756 non-null    int64 \n",
      " 10  winner           752 non-null    object\n",
      " 11  win_by_runs      756 non-null    int64 \n",
      " 12  win_by_wickets   756 non-null    int64 \n",
      " 13  player_of_match  752 non-null    object\n",
      " 14  venue            756 non-null    object\n",
      " 15  umpire1          754 non-null    object\n",
      " 16  umpire2          754 non-null    object\n",
      " 17  umpire3          119 non-null    object\n",
      "dtypes: int64(5), object(13)\n",
      "memory usage: 106.4+ KB\n"
     ]
    }
   ],
   "source": [
    "#checking general information\n",
    "matches.info()"
   ]
  },
  {
   "cell_type": "code",
   "execution_count": 7,
   "id": "069009cd",
   "metadata": {},
   "outputs": [
    {
     "name": "stdout",
     "output_type": "stream",
     "text": [
      "(179078, 21) (756, 18)\n"
     ]
    }
   ],
   "source": [
    "#checking the total numbers of rows and columns\n",
    "print(deliveries.shape,matches.shape)"
   ]
  },
  {
   "cell_type": "markdown",
   "id": "00ca7094",
   "metadata": {},
   "source": [
    "**List of Participating Teams**"
   ]
  },
  {
   "cell_type": "code",
   "execution_count": 8,
   "id": "0fc325d3",
   "metadata": {},
   "outputs": [
    {
     "data": {
      "text/plain": [
       "['Deccan Chargers',\n",
       " 'Rising Pune Supergiant',\n",
       " 'Kolkata Knight Riders',\n",
       " 'Sunrisers Hyderabad',\n",
       " 'Delhi Capitals',\n",
       " 'Kings XI Punjab',\n",
       " 'Mumbai Indians',\n",
       " 'Rising Pune Supergiants',\n",
       " 'Delhi Daredevils',\n",
       " 'Chennai Super Kings',\n",
       " 'Royal Challengers Bangalore',\n",
       " 'Gujarat Lions',\n",
       " 'Kochi Tuskers Kerala',\n",
       " 'Pune Warriors',\n",
       " 'Rajasthan Royals']"
      ]
     },
     "execution_count": 8,
     "metadata": {},
     "output_type": "execute_result"
    }
   ],
   "source": [
    "Participating_teams = matches['team1'].tolist() + matches['team2'].tolist()\n",
    "Participating_teams = list(set(Participating_teams))\n",
    "Participating_teams"
   ]
  },
  {
   "cell_type": "markdown",
   "id": "1fa06945",
   "metadata": {},
   "source": [
    "*There are total number of 15 teams in Indian Premier League*"
   ]
  },
  {
   "cell_type": "markdown",
   "id": "3179857d",
   "metadata": {},
   "source": [
    "**Number of Matches at Each Venue**"
   ]
  },
  {
   "cell_type": "code",
   "execution_count": 9,
   "id": "17acc53c",
   "metadata": {
    "scrolled": true
   },
   "outputs": [
    {
     "data": {
      "text/plain": [
       "(array([ 0,  1,  2,  3,  4,  5,  6,  7,  8,  9, 10, 11, 12, 13, 14, 15, 16,\n",
       "        17, 18, 19, 20, 21, 22, 23, 24, 25, 26, 27, 28, 29, 30, 31, 32, 33,\n",
       "        34, 35, 36, 37, 38, 39, 40]),\n",
       " [Text(0, 0, 'Rajiv Gandhi International Stadium, Uppal'),\n",
       "  Text(1, 0, 'Maharashtra Cricket Association Stadium'),\n",
       "  Text(2, 0, 'Saurashtra Cricket Association Stadium'),\n",
       "  Text(3, 0, 'Holkar Cricket Stadium'),\n",
       "  Text(4, 0, 'M Chinnaswamy Stadium'),\n",
       "  Text(5, 0, 'Wankhede Stadium'),\n",
       "  Text(6, 0, 'Eden Gardens'),\n",
       "  Text(7, 0, 'Feroz Shah Kotla'),\n",
       "  Text(8, 0, 'Punjab Cricket Association IS Bindra Stadium, Mohali'),\n",
       "  Text(9, 0, 'Green Park'),\n",
       "  Text(10, 0, 'Punjab Cricket Association Stadium, Mohali'),\n",
       "  Text(11, 0, 'Sawai Mansingh Stadium'),\n",
       "  Text(12, 0, 'MA Chidambaram Stadium, Chepauk'),\n",
       "  Text(13, 0, 'Dr DY Patil Sports Academy'),\n",
       "  Text(14, 0, 'Newlands'),\n",
       "  Text(15, 0, \"St George's Park\"),\n",
       "  Text(16, 0, 'Kingsmead'),\n",
       "  Text(17, 0, 'SuperSport Park'),\n",
       "  Text(18, 0, 'Buffalo Park'),\n",
       "  Text(19, 0, 'New Wanderers Stadium'),\n",
       "  Text(20, 0, 'De Beers Diamond Oval'),\n",
       "  Text(21, 0, 'OUTsurance Oval'),\n",
       "  Text(22, 0, 'Brabourne Stadium'),\n",
       "  Text(23, 0, 'Sardar Patel Stadium, Motera'),\n",
       "  Text(24, 0, 'Barabati Stadium'),\n",
       "  Text(25, 0, 'Vidarbha Cricket Association Stadium, Jamtha'),\n",
       "  Text(26, 0, 'Himachal Pradesh Cricket Association Stadium'),\n",
       "  Text(27, 0, 'Nehru Stadium'),\n",
       "  Text(28, 0, 'Dr. Y.S. Rajasekhara Reddy ACA-VDCA Cricket Stadium'),\n",
       "  Text(29, 0, 'Subrata Roy Sahara Stadium'),\n",
       "  Text(30, 0, 'Shaheed Veer Narayan Singh International Stadium'),\n",
       "  Text(31, 0, 'JSCA International Stadium Complex'),\n",
       "  Text(32, 0, 'Sheikh Zayed Stadium'),\n",
       "  Text(33, 0, 'Sharjah Cricket Stadium'),\n",
       "  Text(34, 0, 'Dubai International Cricket Stadium'),\n",
       "  Text(35, 0, 'M. A. Chidambaram Stadium'),\n",
       "  Text(36, 0, 'Feroz Shah Kotla Ground'),\n",
       "  Text(37, 0, 'M. Chinnaswamy Stadium'),\n",
       "  Text(38, 0, 'Rajiv Gandhi Intl. Cricket Stadium'),\n",
       "  Text(39, 0, 'IS Bindra Stadium'),\n",
       "  Text(40, 0, 'ACA-VDCA Stadium')])"
      ]
     },
     "execution_count": 9,
     "metadata": {},
     "output_type": "execute_result"
    },
    {
     "data": {
      "image/png": "[encoded data removed]",
      "text/plain": [
       "<Figure size 432x288 with 1 Axes>"
      ]
     },
     "metadata": {
      "needs_background": "light"
     },
     "output_type": "display_data"
    }
   ],
   "source": [
    "sns.countplot('venue', data=matches)\n",
    "plt.xticks(rotation='vertical')"
   ]
  },
  {
   "cell_type": "markdown",
   "id": "948abc66",
   "metadata": {},
   "source": [
    "*Obviously Eden Gardens has the highest number of matches*"
   ]
  },
  {
   "cell_type": "markdown",
   "id": "b80815de",
   "metadata": {},
   "source": [
    "**Total Number of Matches Played by Each Team**"
   ]
  },
  {
   "cell_type": "code",
   "execution_count": 10,
   "id": "edadf929",
   "metadata": {
    "scrolled": true
   },
   "outputs": [
    {
     "data": {
      "text/plain": [
       "<AxesSubplot:>"
      ]
     },
     "execution_count": 10,
     "metadata": {},
     "output_type": "execute_result"
    },
    {
     "data": {
      "image/png": "[encoded data removed]",
      "text/plain": [
       "<Figure size 432x288 with 1 Axes>"
      ]
     },
     "metadata": {
      "needs_background": "light"
     },
     "output_type": "display_data"
    }
   ],
   "source": [
    "x = matches['team1'].value_counts()\n",
    "y = matches['team2'].value_counts()\n",
    "(x+y).plot(kind='barh')"
   ]
  },
  {
   "cell_type": "markdown",
   "id": "a9597fa3",
   "metadata": {},
   "source": [
    "*Mumbai Indians played the highest matches, while Royal Challengers Bangerlore, kolkata Knight Riders, King IX Punjab, Chennai Super King, Delhi Daredevils and Rajastan Royals played in an orderly decreased sequence.*"
   ]
  },
  {
   "cell_type": "markdown",
   "id": "75113b07",
   "metadata": {},
   "source": [
    "**Matches Won by Each Team**"
   ]
  },
  {
   "cell_type": "code",
   "execution_count": 11,
   "id": "5669837e",
   "metadata": {},
   "outputs": [
    {
     "name": "stdout",
     "output_type": "stream",
     "text": [
      "Mumbai Indians                 109\n",
      "Chennai Super Kings            100\n",
      "Kolkata Knight Riders           92\n",
      "Royal Challengers Bangalore     84\n",
      "Kings XI Punjab                 82\n",
      "Rajasthan Royals                75\n",
      "Delhi Daredevils                67\n",
      "Sunrisers Hyderabad             58\n",
      "Deccan Chargers                 29\n",
      "Gujarat Lions                   13\n",
      "Pune Warriors                   12\n",
      "Rising Pune Supergiant          10\n",
      "Delhi Capitals                  10\n",
      "Kochi Tuskers Kerala             6\n",
      "Rising Pune Supergiants          5\n",
      "Name: winner, dtype: int64\n"
     ]
    }
   ],
   "source": [
    "x = matches['winner'].value_counts()\n",
    "print(x)"
   ]
  },
  {
   "cell_type": "markdown",
   "id": "da15166a",
   "metadata": {},
   "source": [
    "*Mumbai Indians won 109 matches, ordely followed by Chennai Super Kings won 100, Kolkata Knight Riders won 92 and Royal Challengers Bangalore won 84 matches.\n",
    "This results clearly shows that \"Mumbai Indians\" are the best teams in the IPL.*"
   ]
  },
  {
   "cell_type": "code",
   "execution_count": 12,
   "id": "72076483",
   "metadata": {},
   "outputs": [
    {
     "data": {
      "text/plain": [
       "(array([ 0,  1,  2,  3,  4,  5,  6,  7,  8,  9, 10, 11, 12, 13, 14]),\n",
       " [Text(0, 0, 'Sunrisers Hyderabad'),\n",
       "  Text(1, 0, 'Rising Pune Supergiant'),\n",
       "  Text(2, 0, 'Kolkata Knight Riders'),\n",
       "  Text(3, 0, 'Kings XI Punjab'),\n",
       "  Text(4, 0, 'Royal Challengers Bangalore'),\n",
       "  Text(5, 0, 'Mumbai Indians'),\n",
       "  Text(6, 0, 'Delhi Daredevils'),\n",
       "  Text(7, 0, 'Gujarat Lions'),\n",
       "  Text(8, 0, 'Chennai Super Kings'),\n",
       "  Text(9, 0, 'Rajasthan Royals'),\n",
       "  Text(10, 0, 'Deccan Chargers'),\n",
       "  Text(11, 0, 'Pune Warriors'),\n",
       "  Text(12, 0, 'Kochi Tuskers Kerala'),\n",
       "  Text(13, 0, 'Rising Pune Supergiants'),\n",
       "  Text(14, 0, 'Delhi Capitals')])"
      ]
     },
     "execution_count": 12,
     "metadata": {},
     "output_type": "execute_result"
    },
    {
     "data": {
      "image/png": "[encoded data removed]",
      "text/plain": [
       "<Figure size 432x288 with 1 Axes>"
      ]
     },
     "metadata": {
      "needs_background": "light"
     },
     "output_type": "display_data"
    }
   ],
   "source": [
    "#plotting a visual for this results\n",
    "sns.countplot('winner', data=matches)\n",
    "plt.xticks(rotation='vertical')"
   ]
  },
  {
   "cell_type": "markdown",
   "id": "c75dd7a7",
   "metadata": {},
   "source": [
    "**10 Best Players of Indian Premier League(IPL)**"
   ]
  },
  {
   "cell_type": "markdown",
   "id": "e8483276",
   "metadata": {},
   "source": [
    "*Man of the match*"
   ]
  },
  {
   "cell_type": "code",
   "execution_count": 13,
   "id": "41f0b249",
   "metadata": {},
   "outputs": [
    {
     "name": "stdout",
     "output_type": "stream",
     "text": [
      "CH Gayle          21\n",
      "AB de Villiers    20\n",
      "RG Sharma         17\n",
      "MS Dhoni          17\n",
      "DA Warner         17\n",
      "YK Pathan         16\n",
      "SR Watson         15\n",
      "SK Raina          14\n",
      "G Gambhir         13\n",
      "MEK Hussey        12\n",
      "Name: player_of_match, dtype: int64\n"
     ]
    },
    {
     "data": {
      "image/png": "[encoded data removed]",
      "text/plain": [
       "<Figure size 432x288 with 1 Axes>"
      ]
     },
     "metadata": {
      "needs_background": "light"
     },
     "output_type": "display_data"
    }
   ],
   "source": [
    "best_player=matches['player_of_match'].value_counts().head(10)\n",
    "print(best_player)\n",
    "sns.barplot(x=best_player.index,y=best_player.values,data=matches)\n",
    "plt.title(\"Top 10 Best IPL Player\")\n",
    "plt.xticks(rotation=90)\n",
    "plt.xlabel(\"Player\")\n",
    "plt.ylabel(\"match Count\")\n",
    "plt.show()"
   ]
  },
  {
   "cell_type": "markdown",
   "id": "1ec0c01c",
   "metadata": {},
   "source": [
    "*Clearly the best player in IPL is CH Gayle while the second is AB Sharma*"
   ]
  },
  {
   "cell_type": "markdown",
   "id": "4678de2d",
   "metadata": {},
   "source": [
    "**The Top Batsman in the IPL**"
   ]
  },
  {
   "cell_type": "code",
   "execution_count": 14,
   "id": "4085228f",
   "metadata": {},
   "outputs": [
    {
     "data": {
      "text/plain": [
       "<AxesSubplot:title={'center':'The Best Batsman in IPL'}, xlabel='batsman'>"
      ]
     },
     "execution_count": 14,
     "metadata": {},
     "output_type": "execute_result"
    },
    {
     "data": {
      "image/png": "[encoded data removed]",
      "text/plain": [
       "<Figure size 432x288 with 1 Axes>"
      ]
     },
     "metadata": {
      "needs_background": "light"
     },
     "output_type": "display_data"
    }
   ],
   "source": [
    "top_batsman=deliveries.groupby('batsman')['batsman_runs'].agg('sum').reset_index().sort_values('batsman_runs', ascending=False).head(10)\n",
    "top_batsman.set_index('batsman', inplace=True)\n",
    "top_batsman.plot(kind='bar', title='The Best Batsman in IPL')"
   ]
  },
  {
   "cell_type": "markdown",
   "id": "ace4a962",
   "metadata": {},
   "source": [
    "*V Kohli is at the top followed by SK Raina and other batsmen.*"
   ]
  },
  {
   "cell_type": "markdown",
   "id": "5db9c11b",
   "metadata": {},
   "source": [
    "**The Bowler Who Has Given the Highest Number of Runs**"
   ]
  },
  {
   "cell_type": "code",
   "execution_count": 15,
   "id": "302c6346",
   "metadata": {},
   "outputs": [
    {
     "data": {
      "text/html": [
       "<div>\n",
       "<style scoped>\n",
       "    .dataframe tbody tr th:only-of-type {\n",
       "        vertical-align: middle;\n",
       "    }\n",
       "\n",
       "    .dataframe tbody tr th {\n",
       "        vertical-align: top;\n",
       "    }\n",
       "\n",
       "    .dataframe thead th {\n",
       "        text-align: right;\n",
       "    }\n",
       "</style>\n",
       "<table border=\"1\" class=\"dataframe\">\n",
       "  <thead>\n",
       "    <tr style=\"text-align: right;\">\n",
       "      <th></th>\n",
       "      <th>bowler</th>\n",
       "      <th>total_runs</th>\n",
       "    </tr>\n",
       "  </thead>\n",
       "  <tbody>\n",
       "    <tr>\n",
       "      <th>264</th>\n",
       "      <td>PP Chawla</td>\n",
       "      <td>4153</td>\n",
       "    </tr>\n",
       "    <tr>\n",
       "      <th>126</th>\n",
       "      <td>Harbhajan Singh</td>\n",
       "      <td>4050</td>\n",
       "    </tr>\n",
       "    <tr>\n",
       "      <th>7</th>\n",
       "      <td>A Mishra</td>\n",
       "      <td>3850</td>\n",
       "    </tr>\n",
       "    <tr>\n",
       "      <th>93</th>\n",
       "      <td>DJ Bravo</td>\n",
       "      <td>3733</td>\n",
       "    </tr>\n",
       "    <tr>\n",
       "      <th>381</th>\n",
       "      <td>UT Yadav</td>\n",
       "      <td>3640</td>\n",
       "    </tr>\n",
       "    <tr>\n",
       "      <th>340</th>\n",
       "      <td>SL Malinga</td>\n",
       "      <td>3511</td>\n",
       "    </tr>\n",
       "    <tr>\n",
       "      <th>269</th>\n",
       "      <td>R Ashwin</td>\n",
       "      <td>3391</td>\n",
       "    </tr>\n",
       "    <tr>\n",
       "      <th>251</th>\n",
       "      <td>P Kumar</td>\n",
       "      <td>3342</td>\n",
       "    </tr>\n",
       "    <tr>\n",
       "      <th>53</th>\n",
       "      <td>B Kumar</td>\n",
       "      <td>3264</td>\n",
       "    </tr>\n",
       "    <tr>\n",
       "      <th>282</th>\n",
       "      <td>RA Jadeja</td>\n",
       "      <td>3221</td>\n",
       "    </tr>\n",
       "  </tbody>\n",
       "</table>\n",
       "</div>"
      ],
      "text/plain": [
       "              bowler  total_runs\n",
       "264        PP Chawla        4153\n",
       "126  Harbhajan Singh        4050\n",
       "7           A Mishra        3850\n",
       "93          DJ Bravo        3733\n",
       "381         UT Yadav        3640\n",
       "340       SL Malinga        3511\n",
       "269         R Ashwin        3391\n",
       "251          P Kumar        3342\n",
       "53           B Kumar        3264\n",
       "282        RA Jadeja        3221"
      ]
     },
     "execution_count": 15,
     "metadata": {},
     "output_type": "execute_result"
    }
   ],
   "source": [
    "deliveries.groupby('bowler')['total_runs'].agg('sum').reset_index().sort_values('total_runs', ascending=False).head(10)"
   ]
  },
  {
   "cell_type": "markdown",
   "id": "c45f9837",
   "metadata": {},
   "source": [
    "**The Bowler with Team-wise Performance**"
   ]
  },
  {
   "cell_type": "code",
   "execution_count": 16,
   "id": "86db5647",
   "metadata": {},
   "outputs": [
    {
     "data": {
      "text/plain": [
       "<AxesSubplot:xlabel='batting_team'>"
      ]
     },
     "execution_count": 16,
     "metadata": {},
     "output_type": "execute_result"
    },
    {
     "data": {
      "image/png": "[encoded data removed]",
      "text/plain": [
       "<Figure size 432x288 with 1 Axes>"
      ]
     },
     "metadata": {
      "needs_background": "light"
     },
     "output_type": "display_data"
    }
   ],
   "source": [
    "Percentage_performance=deliveries['bowler']=='PP Chawla'\n",
    "deliveries[Percentage_performance].groupby('batting_team')['total_runs'].agg('sum').plot(kind='bar')"
   ]
  },
  {
   "cell_type": "markdown",
   "id": "43cb2f6e",
   "metadata": {},
   "source": [
    "*Obviously when you have PP Chawla and H. Singh in your team, the chances of winning becomes very high.*"
   ]
  },
  {
   "cell_type": "markdown",
   "id": "8abc51ba",
   "metadata": {},
   "source": [
    "**Over-wise Batting Performance of Each Team in the IPL**"
   ]
  },
  {
   "cell_type": "code",
   "execution_count": 17,
   "id": "8f9b4534",
   "metadata": {},
   "outputs": [
    {
     "data": {
      "text/plain": [
       "<AxesSubplot:xlabel='over', ylabel='batting_team'>"
      ]
     },
     "execution_count": 17,
     "metadata": {},
     "output_type": "execute_result"
    },
    {
     "data": {
      "image/png": "[encoded data removed]",
      "text/plain": [
       "<Figure size 432x288 with 2 Axes>"
      ]
     },
     "metadata": {
      "needs_background": "light"
     },
     "output_type": "display_data"
    }
   ],
   "source": [
    "bat_perf=deliveries[Percentage_performance]\n",
    "bat_perf=bat_perf[['batting_team','over','batsman_runs']]\n",
    "x=bat_perf.pivot_table(values='batsman_runs', index='batting_team', columns='over', aggfunc='count')\n",
    "sns.heatmap(x, cmap='summer')"
   ]
  },
  {
   "cell_type": "markdown",
   "id": "f19d54c5",
   "metadata": {},
   "source": [
    "**Dismissal Kind**"
   ]
  },
  {
   "cell_type": "code",
   "execution_count": 18,
   "id": "0c11e760",
   "metadata": {},
   "outputs": [
    {
     "data": {
      "text/plain": [
       "(array([0, 1, 2, 3, 4, 5, 6, 7, 8]),\n",
       " [Text(0, 0, 'caught'),\n",
       "  Text(1, 0, 'bowled'),\n",
       "  Text(2, 0, 'run out'),\n",
       "  Text(3, 0, 'lbw'),\n",
       "  Text(4, 0, 'caught and bowled'),\n",
       "  Text(5, 0, 'stumped'),\n",
       "  Text(6, 0, 'retired hurt'),\n",
       "  Text(7, 0, 'hit wicket'),\n",
       "  Text(8, 0, 'obstructing the field')])"
      ]
     },
     "execution_count": 18,
     "metadata": {},
     "output_type": "execute_result"
    },
    {
     "data": {
      "image/png": "[encoded data removed]",
      "text/plain": [
       "<Figure size 432x288 with 1 Axes>"
      ]
     },
     "metadata": {
      "needs_background": "light"
     },
     "output_type": "display_data"
    }
   ],
   "source": [
    "sns.countplot('dismissal_kind', data=deliveries)\n",
    "plt.xticks(rotation='vertical')"
   ]
  },
  {
   "cell_type": "markdown",
   "id": "882f7fa0",
   "metadata": {},
   "source": [
    "**Number of Runs Made by Virat Kohli Against Jasprit Bumrah**"
   ]
  },
  {
   "cell_type": "code",
   "execution_count": 19,
   "id": "f264e74f",
   "metadata": {},
   "outputs": [
    {
     "data": {
      "text/plain": [
       "73"
      ]
     },
     "execution_count": 19,
     "metadata": {},
     "output_type": "execute_result"
    }
   ],
   "source": [
    "Percentage_performance=deliveries['bowler']=='JJ Bumrah'\n",
    "Percentage_performance2=deliveries['batsman']=='V Kohli'\n",
    "deliveries[Percentage_performance].groupby('batsman')['batsman_runs'].agg('count').sort_values(ascending=False)['V Kohli']"
   ]
  },
  {
   "cell_type": "markdown",
   "id": "ff4138cf",
   "metadata": {},
   "source": [
    "**Factors Contrinbuting to The Win or Loss of a Team**"
   ]
  },
  {
   "cell_type": "markdown",
   "id": "3ed8efa0",
   "metadata": {},
   "source": [
    "*Analytically Loosing teams have poor finishers, while winning teams such as Mumbai India and Chennai Super Kings have good finishers i.e the likes of PP Chawla and Harbhajan Singh.Therefpre they should buy a good finisher. As you see in the above heatmap, most of the teams are lagging at the end of the map, except Mumbai India and Chennai Super Kings.\n",
    "Finally, That’s why Mumbai India and Chennai Super Kings are the two most successful teams in the IPL.*"
   ]
  },
  {
   "cell_type": "code",
   "execution_count": null,
   "id": "ee48b4fd",
   "metadata": {},
   "outputs": [],
   "source": []
  }
 ],
 "metadata": {
  "kernelspec": {
   "display_name": "Python 3 (ipykernel)",
   "language": "python",
   "name": "python3"
  },
  "language_info": {
   "codemirror_mode": {
    "name": "ipython",
    "version": 3
   },
   "file_extension": ".py",
   "mimetype": "text/x-python",
   "name": "python",
   "nbconvert_exporter": "python",
   "pygments_lexer": "ipython3",
   "version": "3.9.12"
  }
 },
 "nbformat": 4,
 "nbformat_minor": 5
}
